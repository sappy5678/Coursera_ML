{
 "cells": [
  {
   "cell_type": "code",
   "execution_count": 1,
   "metadata": {
    "collapsed": true
   },
   "outputs": [],
   "source": [
    "import pandas as pd\n",
    "from sklearn import linear_model"
   ]
  },
  {
   "cell_type": "markdown",
   "metadata": {},
   "source": [
    "## 讀取資料"
   ]
  },
  {
   "cell_type": "code",
   "execution_count": 2,
   "metadata": {
    "collapsed": true
   },
   "outputs": [],
   "source": [
    "train_data = pd.read_csv(\"kc_house_train_data.csv\")\n",
    "test_data = pd.read_csv(\"kc_house_test_data.csv\")"
   ]
  },
  {
   "cell_type": "markdown",
   "metadata": {},
   "source": [
    "## 抓取特徵"
   ]
  },
  {
   "cell_type": "code",
   "execution_count": 3,
   "metadata": {
    "collapsed": true
   },
   "outputs": [],
   "source": [
    "train_features = train_data[['sqft_living',  'bedrooms', 'bathrooms']]\n",
    "train_results = train_data[[\"price\"]]"
   ]
  },
  {
   "cell_type": "markdown",
   "metadata": {},
   "source": [
    "## 開始訓練模型"
   ]
  },
  {
   "cell_type": "code",
   "execution_count": 4,
   "metadata": {},
   "outputs": [
    {
     "name": "stdout",
     "output_type": "stream",
     "text": [
      "model [[   315.40669062 -65081.88711588   6942.16598637]]\n"
     ]
    }
   ],
   "source": [
    "model = linear_model.LinearRegression()\n",
    "model.fit(X = train_features,y = train_results)\n",
    "print (\"model\" , model.coef_)"
   ]
  },
  {
   "cell_type": "markdown",
   "metadata": {},
   "source": [
    "## 預測\n",
    "有一點誤差是正常的"
   ]
  },
  {
   "cell_type": "code",
   "execution_count": 5,
   "metadata": {},
   "outputs": [
    {
     "data": {
      "text/plain": [
       "array([ 271789.26537997])"
      ]
     },
     "execution_count": 5,
     "metadata": {},
     "output_type": "execute_result"
    }
   ],
   "source": [
    "model.predict(train_data[['sqft_living',  'bedrooms', 'bathrooms']])[0] #should be 271789.505878"
   ]
  },
  {
   "cell_type": "markdown",
   "metadata": {
    "collapsed": true
   },
   "source": [
    "## 計算RSS"
   ]
  },
  {
   "cell_type": "code",
   "execution_count": 6,
   "metadata": {
    "collapsed": true
   },
   "outputs": [],
   "source": [
    "def get_residual_sum_of_squares(model, data, outcome):\n",
    "    # First get the predictions\n",
    "    predictions = model.predict(data)\n",
    "    # Then compute the residuals/errors\n",
    "    residuals = outcome - predictions\n",
    "    # Then square and add them up\n",
    "    RSS = residuals.apply(lambda x: x**2).sum()\n",
    "    return(RSS)"
   ]
  },
  {
   "cell_type": "markdown",
   "metadata": {},
   "source": [
    "## 看看RSS對不對\n",
    "有一點誤差是正常的"
   ]
  },
  {
   "cell_type": "code",
   "execution_count": 7,
   "metadata": {},
   "outputs": [
    {
     "name": "stdout",
     "output_type": "stream",
     "text": [
      "price    2.737619e+14\n",
      "dtype: float64\n"
     ]
    }
   ],
   "source": [
    "rss_example_train = get_residual_sum_of_squares(model, test_data[['sqft_living',  'bedrooms', 'bathrooms']], test_data[['price']])\n",
    "print (rss_example_train) # should be 2.7376153833e+14"
   ]
  },
  {
   "cell_type": "markdown",
   "metadata": {},
   "source": [
    "## 建立一些新的特徵"
   ]
  },
  {
   "cell_type": "markdown",
   "metadata": {},
   "source": [
    "Although we often think of multiple regression as including multiple different features (e.g. # of bedrooms, squarefeet, and # of bathrooms) but we can also consider transformations of existing features e.g. the log of the squarefeet or even \"interaction\" features such as the product of bedrooms and bathrooms.\n",
    "You will use the logarithm function to create a new feature. so first you should import it from the math library."
   ]
  },
  {
   "cell_type": "code",
   "execution_count": 8,
   "metadata": {
    "collapsed": true
   },
   "outputs": [],
   "source": [
    "from math import log"
   ]
  },
  {
   "cell_type": "markdown",
   "metadata": {},
   "source": [
    "Next create the following 4 new features as column in both TEST and TRAIN data:\n",
    "* bedrooms_squared = bedrooms\\*bedrooms\n",
    "* bed_bath_rooms = bedrooms\\*bathrooms\n",
    "* log_sqft_living = log(sqft_living)\n",
    "* lat_plus_long = lat + long \n",
    "As an example here's the first one:"
   ]
  },
  {
   "cell_type": "code",
   "execution_count": 9,
   "metadata": {
    "collapsed": true
   },
   "outputs": [],
   "source": [
    "# bedrooms_squared\n",
    "train_data['bedrooms_squared'] = train_data['bedrooms'].apply(lambda x: x**2)\n",
    "test_data['bedrooms_squared'] = test_data['bedrooms'].apply(lambda x: x**2)\n",
    "\n",
    "# bed_bath_rooms\n",
    "train_data['bed_bath_rooms'] = train_data['bedrooms'] * train_data['bathrooms']\n",
    "test_data['bed_bath_rooms'] = test_data['bedrooms']* test_data['bathrooms']\n",
    "\n",
    "# log_sqft_living\n",
    "train_data['log_sqft_living'] = train_data['sqft_living'].apply(lambda x: log(x))\n",
    "test_data['log_sqft_living'] = test_data['sqft_living'].apply(lambda x: log(x))\n",
    "\n",
    "# lat_plus_long\n",
    "train_data['lat_plus_long'] = train_data['long'] + train_data['lat']\n",
    "test_data['lat_plus_long'] = test_data['long']+ test_data['lat']"
   ]
  },
  {
   "cell_type": "markdown",
   "metadata": {},
   "source": [
    "## 訓練三個模型\n",
    "Now we will learn the weights for three (nested) models for predicting house prices. The first model will have the fewest features the second model will add one more feature and the third will add a few more:\n",
    "* Model 1: squarefeet, # bedrooms, # bathrooms, latitude & longitude\n",
    "* Model 2: add bedrooms\\*bathrooms\n",
    "* Model 3: Add log squarefeet, bedrooms squared, and the (nonsensical) latitude + longitude\n",
    "\n",
    "model_1_features = ['sqft_living', 'bedrooms', 'bathrooms', 'lat', 'long']\n",
    "\n",
    "model_2_features = model_1_features + ['bed_bath_rooms']\n",
    "\n",
    "model_3_features = model_2_features + ['bedrooms_squared', 'log_sqft_living', 'lat_plus_long']\n"
   ]
  },
  {
   "cell_type": "code",
   "execution_count": 10,
   "metadata": {},
   "outputs": [
    {
     "data": {
      "text/plain": [
       "LinearRegression(copy_X=True, fit_intercept=True, n_jobs=1, normalize=False)"
      ]
     },
     "execution_count": 10,
     "metadata": {},
     "output_type": "execute_result"
    }
   ],
   "source": [
    "# model 1\n",
    "model1 = linear_model.LinearRegression()\n",
    "model1.fit(X = train_data[['sqft_living', 'bedrooms', 'bathrooms', 'lat', 'long']],y = train_data[['price']])\n",
    "\n",
    "# model 2\n",
    "model2 = linear_model.LinearRegression()\n",
    "model2.fit(X = train_data[['sqft_living', 'bedrooms', 'bathrooms', 'lat', 'long','bed_bath_rooms']],y = train_data[['price']])\n",
    "\n",
    "# model 3\n",
    "model3 = linear_model.LinearRegression()\n",
    "model3.fit(X = train_data[['sqft_living', 'bedrooms', 'bathrooms', 'lat', 'long','bedrooms_squared', 'log_sqft_living', 'lat_plus_long']],y = train_data[['price']])"
   ]
  },
  {
   "cell_type": "code",
   "execution_count": 11,
   "metadata": {},
   "outputs": [
    {
     "name": "stdout",
     "output_type": "stream",
     "text": [
      "model1 [[  3.12258646e+02  -5.95865332e+04   1.57067421e+04   6.58619264e+05\n",
      "   -3.09374351e+05]]\n",
      "model2 [[  3.06610053e+02  -1.13446368e+05  -7.14613083e+04   6.54844630e+05\n",
      "   -2.94298969e+05   2.55796520e+04]]\n",
      "model3 [[  5.17895745e+02   3.47434918e+04   3.64681376e+04   5.34373572e+05\n",
      "   -4.06758960e+05  -9.44734086e+03  -5.36751710e+05   1.27614612e+05]]\n"
     ]
    }
   ],
   "source": [
    "# Examine/extract each model's coefficients:\n",
    "print (\"model1\" , model1.coef_)\n",
    "print (\"model2\" , model2.coef_)\n",
    "print (\"model3\" , model3.coef_)"
   ]
  },
  {
   "cell_type": "code",
   "execution_count": 12,
   "metadata": {},
   "outputs": [
    {
     "name": "stdout",
     "output_type": "stream",
     "text": [
      "RSS1 price    9.678800e+14\n",
      "dtype: float64\n",
      "RSS1 price    9.584196e+14\n",
      "dtype: float64\n",
      "RSS1 price    9.039047e+14\n",
      "dtype: float64\n"
     ]
    }
   ],
   "source": [
    "# Compute the RSS on TRAINING data for each of the three models and record the values:\n",
    "RSS1 = get_residual_sum_of_squares(model1, train_data[['sqft_living', 'bedrooms', 'bathrooms', 'lat', 'long']], train_data[['price']])\n",
    "print (\"RSS1\",RSS1) \n",
    "\n",
    "RSS2 = get_residual_sum_of_squares(model2, train_data[['sqft_living', 'bedrooms', 'bathrooms', 'lat', 'long','bed_bath_rooms']], train_data[['price']])\n",
    "print (\"RSS1\",RSS2) \n",
    "\n",
    "RSS2 = get_residual_sum_of_squares(model3, train_data[['sqft_living', 'bedrooms', 'bathrooms', 'lat', 'long','bedrooms_squared', 'log_sqft_living', 'lat_plus_long']], train_data[['price']])\n",
    "print (\"RSS1\",RSS2) "
   ]
  },
  {
   "cell_type": "code",
   "execution_count": 13,
   "metadata": {},
   "outputs": [
    {
     "name": "stdout",
     "output_type": "stream",
     "text": [
      "test_RSS1 price    2.255005e+14\n",
      "dtype: float64\n",
      "test_RSS1 price    2.233775e+14\n",
      "dtype: float64\n",
      "test_RSS1 price    2.979355e+14\n",
      "dtype: float64\n"
     ]
    }
   ],
   "source": [
    "# Compute the RSS on TESTING data for each of the three models and record the values:\n",
    "# Compute the RSS on TRAINING data for each of the three models and record the values:\n",
    "test_RSS1 = get_residual_sum_of_squares(model1, test_data[['sqft_living', 'bedrooms', 'bathrooms', 'lat', 'long']], test_data[['price']])\n",
    "print (\"test_RSS1\",test_RSS1) \n",
    "\n",
    "test_RSS2 = get_residual_sum_of_squares(model2, test_data[['sqft_living', 'bedrooms', 'bathrooms', 'lat', 'long','bed_bath_rooms']], test_data[['price']])\n",
    "print (\"test_RSS1\",test_RSS2) \n",
    "\n",
    "test_RSS2 = get_residual_sum_of_squares(model3, test_data[['sqft_living', 'bedrooms', 'bathrooms', 'lat', 'long','bedrooms_squared', 'log_sqft_living', 'lat_plus_long']], test_data[['price']])\n",
    "print (\"test_RSS1\",test_RSS2) "
   ]
  },
  {
   "cell_type": "markdown",
   "metadata": {},
   "source": [
    "## Quiz Question:\n",
    "What is the mean (arithmetic average) value of your 4 new features on TEST data? (round to 2 digits)"
   ]
  },
  {
   "cell_type": "code",
   "execution_count": 14,
   "metadata": {},
   "outputs": [
    {
     "name": "stdout",
     "output_type": "stream",
     "text": [
      "12.4466777015843\n",
      "7.5039016315913925\n",
      "7.550274679645921\n",
      "-74.65333355403185\n"
     ]
    }
   ],
   "source": [
    "print (test_data['bedrooms_squared'].mean())\n",
    "print (test_data['bed_bath_rooms'].mean())\n",
    "print (test_data['log_sqft_living'].mean())\n",
    "print (test_data['lat_plus_long'].mean())"
   ]
  },
  {
   "cell_type": "markdown",
   "metadata": {},
   "source": [
    "6.Quiz Question: What is the sign (positive or negative) for the coefficient/weight for ‘bathrooms’ in Model 1?\n",
    "\n",
    "7.Quiz Question: What is the sign (positive or negative) for the coefficient/weight for ‘bathrooms’ in Model 2?\n",
    "\n",
    "8.Is the sign for the coefficient the same in both models? Think about why this might be the case.\n",
    "\n",
    "9.Now using your three estimated models compute the RSS (Residual Sum of Squares) on the Training data.\n",
    "\n",
    "10.Quiz Question: Which model (1, 2 or 3) had the lowest RSS on TRAINING data?\n",
    "\n",
    "11.Now using your three estimated models compute the RSS on the Testing data\n",
    "\n",
    "12.Quiz Question: Which model (1, 2, or 3) had the lowest RSS on TESTING data?\n",
    "\n",
    "13.Did you get the same answer for 9 and 11? Think about why this might be the case."
   ]
  },
  {
   "cell_type": "code",
   "execution_count": null,
   "metadata": {
    "collapsed": true
   },
   "outputs": [],
   "source": []
  }
 ],
 "metadata": {
  "kernelspec": {
   "display_name": "Python [conda env:mylab]",
   "language": "python",
   "name": "conda-env-mylab-py"
  },
  "language_info": {
   "codemirror_mode": {
    "name": "ipython",
    "version": 3
   },
   "file_extension": ".py",
   "mimetype": "text/x-python",
   "name": "python",
   "nbconvert_exporter": "python",
   "pygments_lexer": "ipython3",
   "version": "3.5.3"
  }
 },
 "nbformat": 4,
 "nbformat_minor": 2
}
